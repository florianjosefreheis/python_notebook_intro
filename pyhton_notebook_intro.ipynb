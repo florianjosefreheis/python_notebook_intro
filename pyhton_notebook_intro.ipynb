{
 "cells": [
  {
   "cell_type": "code",
   "execution_count": 58,
   "metadata": {
    "collapsed": false
   },
   "outputs": [
    {
     "name": "stdout",
     "output_type": "stream",
     "text": [
      "Hello world\n"
     ]
    }
   ],
   "source": [
    "print('Hello world')"
   ]
  },
  {
   "cell_type": "code",
   "execution_count": 59,
   "metadata": {
    "collapsed": false
   },
   "outputs": [
    {
     "data": {
      "text/plain": [
       "2"
      ]
     },
     "execution_count": 59,
     "metadata": {},
     "output_type": "execute_result"
    }
   ],
   "source": [
    "1+1"
   ]
  },
  {
   "cell_type": "code",
   "execution_count": 60,
   "metadata": {
    "collapsed": false
   },
   "outputs": [
    {
     "data": {
      "text/plain": [
       "501.0"
      ]
     },
     "execution_count": 60,
     "metadata": {},
     "output_type": "execute_result"
    }
   ],
   "source": [
    "result"
   ]
  },
  {
   "cell_type": "code",
   "execution_count": 61,
   "metadata": {
    "collapsed": false
   },
   "outputs": [
    {
     "data": {
      "text/plain": [
       "334.0"
      ]
     },
     "execution_count": 61,
     "metadata": {},
     "output_type": "execute_result"
    }
   ],
   "source": [
    "1002/3.0"
   ]
  },
  {
   "cell_type": "code",
   "execution_count": 62,
   "metadata": {
    "collapsed": true
   },
   "outputs": [],
   "source": [
    "result = 1002/2.0"
   ]
  },
  {
   "cell_type": "code",
   "execution_count": 63,
   "metadata": {
    "collapsed": false
   },
   "outputs": [
    {
     "name": "stdout",
     "output_type": "stream",
     "text": [
      "501.0\n"
     ]
    }
   ],
   "source": [
    "print(result)"
   ]
  },
  {
   "cell_type": "code",
   "execution_count": 64,
   "metadata": {
    "collapsed": true
   },
   "outputs": [],
   "source": [
    "s1 = 'Hello'\n",
    "s2 = 'World'"
   ]
  },
  {
   "cell_type": "code",
   "execution_count": 65,
   "metadata": {
    "collapsed": false
   },
   "outputs": [
    {
     "name": "stdout",
     "output_type": "stream",
     "text": [
      "Hello\n"
     ]
    }
   ],
   "source": [
    "print(s1)"
   ]
  },
  {
   "cell_type": "code",
   "execution_count": 66,
   "metadata": {
    "collapsed": false
   },
   "outputs": [
    {
     "name": "stdout",
     "output_type": "stream",
     "text": [
      "Hello World\n"
     ]
    }
   ],
   "source": [
    "print(s1 + \" \" + s2)"
   ]
  },
  {
   "cell_type": "code",
   "execution_count": 67,
   "metadata": {
    "collapsed": true
   },
   "outputs": [],
   "source": [
    "full_word = s1 + \" \" + s2"
   ]
  },
  {
   "cell_type": "code",
   "execution_count": 68,
   "metadata": {
    "collapsed": false
   },
   "outputs": [
    {
     "name": "stdout",
     "output_type": "stream",
     "text": [
      "Hello World\n"
     ]
    }
   ],
   "source": [
    "print(full_word)"
   ]
  },
  {
   "cell_type": "code",
   "execution_count": 69,
   "metadata": {
    "collapsed": false
   },
   "outputs": [
    {
     "ename": "SyntaxError",
     "evalue": "Missing parentheses in call to 'print' (<ipython-input-69-b7a33c213ab6>, line 1)",
     "output_type": "error",
     "traceback": [
      "\u001b[0;36m  File \u001b[0;32m\"<ipython-input-69-b7a33c213ab6>\"\u001b[0;36m, line \u001b[0;32m1\u001b[0m\n\u001b[0;31m    print full_word\u001b[0m\n\u001b[0m                  ^\u001b[0m\n\u001b[0;31mSyntaxError\u001b[0m\u001b[0;31m:\u001b[0m Missing parentheses in call to 'print'\n"
     ]
    }
   ],
   "source": [
    "print full_word"
   ]
  },
  {
   "cell_type": "code",
   "execution_count": 71,
   "metadata": {
    "collapsed": false
   },
   "outputs": [
    {
     "name": "stdout",
     "output_type": "stream",
     "text": [
      "Hello World\n"
     ]
    }
   ],
   "source": [
    "print(full_word)"
   ]
  },
  {
   "cell_type": "code",
   "execution_count": 72,
   "metadata": {
    "collapsed": true
   },
   "outputs": [],
   "source": [
    "def full_word(s1, s2):\n",
    "    return s1 + ' ' + s2"
   ]
  },
  {
   "cell_type": "code",
   "execution_count": 73,
   "metadata": {
    "collapsed": false
   },
   "outputs": [
    {
     "data": {
      "text/plain": [
       "'Hello World'"
      ]
     },
     "execution_count": 73,
     "metadata": {},
     "output_type": "execute_result"
    }
   ],
   "source": [
    "full_word(s1, s2)"
   ]
  },
  {
   "cell_type": "code",
   "execution_count": 74,
   "metadata": {
    "collapsed": false
   },
   "outputs": [
    {
     "ename": "NameError",
     "evalue": "name 'football' is not defined",
     "output_type": "error",
     "traceback": [
      "\u001b[0;31m---------------------------------------------------------------------------\u001b[0m",
      "\u001b[0;31mNameError\u001b[0m                                 Traceback (most recent call last)",
      "\u001b[0;32m<ipython-input-74-223e13d5fae0>\u001b[0m in \u001b[0;36m<module>\u001b[0;34m()\u001b[0m\n\u001b[0;32m----> 1\u001b[0;31m \u001b[0mfull_word\u001b[0m\u001b[0;34m(\u001b[0m\u001b[0mfootball\u001b[0m\u001b[0;34m,\u001b[0m \u001b[0mgame\u001b[0m\u001b[0;34m)\u001b[0m\u001b[0;34m\u001b[0m\u001b[0m\n\u001b[0m",
      "\u001b[0;31mNameError\u001b[0m: name 'football' is not defined"
     ]
    }
   ],
   "source": [
    "full_word(football, game)"
   ]
  },
  {
   "cell_type": "code",
   "execution_count": 75,
   "metadata": {
    "collapsed": false
   },
   "outputs": [
    {
     "data": {
      "text/plain": [
       "'football game'"
      ]
     },
     "execution_count": 75,
     "metadata": {},
     "output_type": "execute_result"
    }
   ],
   "source": [
    "full_word('football', 'game')"
   ]
  },
  {
   "cell_type": "code",
   "execution_count": 96,
   "metadata": {
    "collapsed": false
   },
   "outputs": [],
   "source": [
    "def full_word(s1, s2, s3=None):\n",
    "    if s3 is None:\n",
    "        return s1 + ' ' + s2\n",
    "    else:\n",
    "        return s1 + ' ' + s2 + ' ' + s3"
   ]
  },
  {
   "cell_type": "code",
   "execution_count": 97,
   "metadata": {
    "collapsed": false
   },
   "outputs": [
    {
     "data": {
      "text/plain": [
       "'football game'"
      ]
     },
     "execution_count": 97,
     "metadata": {},
     "output_type": "execute_result"
    }
   ],
   "source": [
    "full_word('football', 'game')"
   ]
  },
  {
   "cell_type": "code",
   "execution_count": 98,
   "metadata": {
    "collapsed": false
   },
   "outputs": [
    {
     "data": {
      "text/plain": [
       "'football game gug'"
      ]
     },
     "execution_count": 98,
     "metadata": {},
     "output_type": "execute_result"
    }
   ],
   "source": [
    "full_word('football', 'game', 'gug')"
   ]
  },
  {
   "cell_type": "code",
   "execution_count": 99,
   "metadata": {
    "collapsed": true
   },
   "outputs": [],
   "source": [
    "import math"
   ]
  },
  {
   "cell_type": "code",
   "execution_count": 100,
   "metadata": {
    "collapsed": false
   },
   "outputs": [
    {
     "data": {
      "text/plain": [
       "124"
      ]
     },
     "execution_count": 100,
     "metadata": {},
     "output_type": "execute_result"
    }
   ],
   "source": [
    "math.ceil(123.4)"
   ]
  },
  {
   "cell_type": "code",
   "execution_count": 102,
   "metadata": {
    "collapsed": false
   },
   "outputs": [
    {
     "data": {
      "text/plain": [
       "123"
      ]
     },
     "execution_count": 102,
     "metadata": {},
     "output_type": "execute_result"
    }
   ],
   "source": [
    "math.floor(123.4)"
   ]
  },
  {
   "cell_type": "code",
   "execution_count": 104,
   "metadata": {
    "collapsed": false
   },
   "outputs": [
    {
     "name": "stderr",
     "output_type": "stream",
     "text": [
      "/Users/florianreheis/anaconda/lib/python3.6/site-packages/matplotlib/font_manager.py:280: UserWarning: Matplotlib is building the font cache using fc-list. This may take a moment.\n",
      "  'Matplotlib is building the font cache using fc-list. '\n"
     ]
    }
   ],
   "source": [
    "import pandas as pd\n",
    "import matplotlib\n",
    "%matplotlib inline"
   ]
  },
  {
   "cell_type": "code",
   "execution_count": 121,
   "metadata": {
    "collapsed": false
   },
   "outputs": [],
   "source": [
    "df = pd.read_csv('planets.tab', skiprows=406, delimiter='\\t')"
   ]
  },
  {
   "cell_type": "code",
   "execution_count": 122,
   "metadata": {
    "collapsed": false
   },
   "outputs": [
    {
     "name": "stdout",
     "output_type": "stream",
     "text": [
      "<class 'pandas.core.frame.DataFrame'>\n",
      "RangeIndex: 3142 entries, 0 to 3141\n",
      "Data columns (total 70 columns):\n",
      "333                3142 non-null int64\n",
      "HD 132406          3142 non-null object\n",
      "b                  3142 non-null object\n",
      "Radial Velocity    3142 non-null object\n",
      "1                  3142 non-null int64\n",
      "974.00000000       3087 non-null float64\n",
      "39.00000000        2960 non-null float64\n",
      "-39.00000000       2960 non-null float64\n",
      "0                  3085 non-null float64\n",
      "1.980000           1668 non-null float64\n",
      "Unnamed: 10        846 non-null float64\n",
      "Unnamed: 11        845 non-null float64\n",
      "0.1                1666 non-null float64\n",
      "0.340000           752 non-null float64\n",
      "0.090000           542 non-null float64\n",
      "-0.090000          542 non-null float64\n",
      "0.2                750 non-null float64\n",
      "Unnamed: 17        405 non-null float64\n",
      "Unnamed: 18        385 non-null float64\n",
      "Unnamed: 19        387 non-null float64\n",
      "Unnamed: 20        407 non-null float64\n",
      "5.61000            939 non-null float64\n",
      "Unnamed: 22        801 non-null float64\n",
      "Unnamed: 23        801 non-null float64\n",
      "0.3                939 non-null float64\n",
      "Msini              939 non-null object\n",
      "Unnamed: 26        2614 non-null float64\n",
      "Unnamed: 27        2581 non-null float64\n",
      "Unnamed: 28        2581 non-null float64\n",
      "Unnamed: 29        2614 non-null float64\n",
      "Unnamed: 30        312 non-null float64\n",
      "Unnamed: 31        304 non-null float64\n",
      "Unnamed: 32        304 non-null float64\n",
      "Unnamed: 33        311 non-null float64\n",
      "0.4                3142 non-null int64\n",
      "0.5                3142 non-null int64\n",
      "0.6                3142 non-null int64\n",
      "0.7                3142 non-null int64\n",
      "14h56m54.65s       3142 non-null object\n",
      "224.227707         3142 non-null float64\n",
      "+53d22m55.8s       3142 non-null object\n",
      "53.382168          3142 non-null float64\n",
      "70.97              2080 non-null float64\n",
      "3.68               1989 non-null float64\n",
      "-4.10              1989 non-null float64\n",
      "0.8                2073 non-null float64\n",
      "8.467              3055 non-null float64\n",
      "0.013              409 non-null float64\n",
      "0.9                3055 non-null float64\n",
      "0.10               3055 non-null float64\n",
      "V (Johnson)        3055 non-null object\n",
      "8.245              389 non-null float64\n",
      "Unnamed: 52        0 non-null float64\n",
      "0.11               389 non-null float64\n",
      "Unnamed: 54        3008 non-null float64\n",
      "Unnamed: 55        2934 non-null float64\n",
      "Unnamed: 56        2872 non-null float64\n",
      "Unnamed: 57        3008 non-null float64\n",
      "Unnamed: 58        3025 non-null float64\n",
      "Unnamed: 59        2835 non-null float64\n",
      "Unnamed: 60        2273 non-null float64\n",
      "Unnamed: 61        2212 non-null float64\n",
      "Unnamed: 62        2832 non-null float64\n",
      "Unnamed: 63        2768 non-null float64\n",
      "Unnamed: 64        2872 non-null float64\n",
      "Unnamed: 65        2824 non-null float64\n",
      "Unnamed: 66        2764 non-null float64\n",
      "Unnamed: 67        2871 non-null float64\n",
      "Unnamed: 68        3010 non-null float64\n",
      "2014-05-14         3142 non-null object\n",
      "dtypes: float64(56), int64(6), object(8)\n",
      "memory usage: 1.7+ MB\n"
     ]
    }
   ],
   "source": [
    "df.info()"
   ]
  },
  {
   "cell_type": "code",
   "execution_count": 124,
   "metadata": {
    "collapsed": false
   },
   "outputs": [
    {
     "data": {
      "text/html": [
       "<div>\n",
       "<table border=\"1\" class=\"dataframe\">\n",
       "  <thead>\n",
       "    <tr style=\"text-align: right;\">\n",
       "      <th></th>\n",
       "      <th>333</th>\n",
       "      <th>HD 132406</th>\n",
       "      <th>b</th>\n",
       "      <th>Radial Velocity</th>\n",
       "      <th>1</th>\n",
       "      <th>974.00000000</th>\n",
       "      <th>39.00000000</th>\n",
       "      <th>-39.00000000</th>\n",
       "      <th>0</th>\n",
       "      <th>1.980000</th>\n",
       "      <th>...</th>\n",
       "      <th>Unnamed: 60</th>\n",
       "      <th>Unnamed: 61</th>\n",
       "      <th>Unnamed: 62</th>\n",
       "      <th>Unnamed: 63</th>\n",
       "      <th>Unnamed: 64</th>\n",
       "      <th>Unnamed: 65</th>\n",
       "      <th>Unnamed: 66</th>\n",
       "      <th>Unnamed: 67</th>\n",
       "      <th>Unnamed: 68</th>\n",
       "      <th>2014-05-14</th>\n",
       "    </tr>\n",
       "  </thead>\n",
       "  <tbody>\n",
       "    <tr>\n",
       "      <th>0</th>\n",
       "      <td>334</td>\n",
       "      <td>HD 132563</td>\n",
       "      <td>b</td>\n",
       "      <td>Radial Velocity</td>\n",
       "      <td>1</td>\n",
       "      <td>1544.000</td>\n",
       "      <td>34.000</td>\n",
       "      <td>-34.000</td>\n",
       "      <td>0.0</td>\n",
       "      <td>2.620</td>\n",
       "      <td>...</td>\n",
       "      <td>NaN</td>\n",
       "      <td>NaN</td>\n",
       "      <td>NaN</td>\n",
       "      <td>NaN</td>\n",
       "      <td>NaN</td>\n",
       "      <td>NaN</td>\n",
       "      <td>NaN</td>\n",
       "      <td>NaN</td>\n",
       "      <td>NaN</td>\n",
       "      <td>2014-05-14</td>\n",
       "    </tr>\n",
       "    <tr>\n",
       "      <th>1</th>\n",
       "      <td>335</td>\n",
       "      <td>HD 133131 A</td>\n",
       "      <td>b</td>\n",
       "      <td>Radial Velocity</td>\n",
       "      <td>2</td>\n",
       "      <td>649.000</td>\n",
       "      <td>3.000</td>\n",
       "      <td>-3.000</td>\n",
       "      <td>0.0</td>\n",
       "      <td>1.440</td>\n",
       "      <td>...</td>\n",
       "      <td>NaN</td>\n",
       "      <td>NaN</td>\n",
       "      <td>0.0</td>\n",
       "      <td>0.0</td>\n",
       "      <td>NaN</td>\n",
       "      <td>NaN</td>\n",
       "      <td>NaN</td>\n",
       "      <td>NaN</td>\n",
       "      <td>0.0</td>\n",
       "      <td>2016-09-08</td>\n",
       "    </tr>\n",
       "    <tr>\n",
       "      <th>2</th>\n",
       "      <td>336</td>\n",
       "      <td>HD 133131 A</td>\n",
       "      <td>c</td>\n",
       "      <td>Radial Velocity</td>\n",
       "      <td>2</td>\n",
       "      <td>3568.000</td>\n",
       "      <td>1084.000</td>\n",
       "      <td>-1084.000</td>\n",
       "      <td>0.0</td>\n",
       "      <td>4.490</td>\n",
       "      <td>...</td>\n",
       "      <td>NaN</td>\n",
       "      <td>NaN</td>\n",
       "      <td>0.0</td>\n",
       "      <td>0.0</td>\n",
       "      <td>NaN</td>\n",
       "      <td>NaN</td>\n",
       "      <td>NaN</td>\n",
       "      <td>NaN</td>\n",
       "      <td>0.0</td>\n",
       "      <td>2016-09-08</td>\n",
       "    </tr>\n",
       "    <tr>\n",
       "      <th>3</th>\n",
       "      <td>337</td>\n",
       "      <td>HD 133131 B</td>\n",
       "      <td>1</td>\n",
       "      <td>Radial Velocity</td>\n",
       "      <td>2</td>\n",
       "      <td>5769.000</td>\n",
       "      <td>831.000</td>\n",
       "      <td>-831.000</td>\n",
       "      <td>0.0</td>\n",
       "      <td>6.150</td>\n",
       "      <td>...</td>\n",
       "      <td>NaN</td>\n",
       "      <td>NaN</td>\n",
       "      <td>0.0</td>\n",
       "      <td>0.0</td>\n",
       "      <td>NaN</td>\n",
       "      <td>NaN</td>\n",
       "      <td>NaN</td>\n",
       "      <td>NaN</td>\n",
       "      <td>0.0</td>\n",
       "      <td>2016-09-08</td>\n",
       "    </tr>\n",
       "    <tr>\n",
       "      <th>4</th>\n",
       "      <td>338</td>\n",
       "      <td>HD 134987</td>\n",
       "      <td>b</td>\n",
       "      <td>Radial Velocity</td>\n",
       "      <td>2</td>\n",
       "      <td>258.190</td>\n",
       "      <td>0.070</td>\n",
       "      <td>-0.070</td>\n",
       "      <td>0.0</td>\n",
       "      <td>0.810</td>\n",
       "      <td>...</td>\n",
       "      <td>0.07</td>\n",
       "      <td>-0.04</td>\n",
       "      <td>0.0</td>\n",
       "      <td>0.0</td>\n",
       "      <td>1.25</td>\n",
       "      <td>0.04</td>\n",
       "      <td>-0.04</td>\n",
       "      <td>0.0</td>\n",
       "      <td>0.0</td>\n",
       "      <td>2014-05-14</td>\n",
       "    </tr>\n",
       "    <tr>\n",
       "      <th>5</th>\n",
       "      <td>339</td>\n",
       "      <td>HD 134987</td>\n",
       "      <td>c</td>\n",
       "      <td>Radial Velocity</td>\n",
       "      <td>2</td>\n",
       "      <td>5000.000</td>\n",
       "      <td>400.000</td>\n",
       "      <td>-400.000</td>\n",
       "      <td>0.0</td>\n",
       "      <td>5.800</td>\n",
       "      <td>...</td>\n",
       "      <td>0.07</td>\n",
       "      <td>-0.04</td>\n",
       "      <td>0.0</td>\n",
       "      <td>0.0</td>\n",
       "      <td>1.25</td>\n",
       "      <td>0.04</td>\n",
       "      <td>-0.04</td>\n",
       "      <td>0.0</td>\n",
       "      <td>0.0</td>\n",
       "      <td>2014-05-14</td>\n",
       "    </tr>\n",
       "    <tr>\n",
       "      <th>6</th>\n",
       "      <td>340</td>\n",
       "      <td>HD 136418</td>\n",
       "      <td>b</td>\n",
       "      <td>Radial Velocity</td>\n",
       "      <td>1</td>\n",
       "      <td>464.300</td>\n",
       "      <td>3.200</td>\n",
       "      <td>-3.200</td>\n",
       "      <td>0.0</td>\n",
       "      <td>1.320</td>\n",
       "      <td>...</td>\n",
       "      <td>0.09</td>\n",
       "      <td>-0.09</td>\n",
       "      <td>0.0</td>\n",
       "      <td>0.0</td>\n",
       "      <td>3.40</td>\n",
       "      <td>0.10</td>\n",
       "      <td>-0.10</td>\n",
       "      <td>0.0</td>\n",
       "      <td>0.0</td>\n",
       "      <td>2014-05-14</td>\n",
       "    </tr>\n",
       "    <tr>\n",
       "      <th>7</th>\n",
       "      <td>341</td>\n",
       "      <td>HD 137388 A</td>\n",
       "      <td>b</td>\n",
       "      <td>Radial Velocity</td>\n",
       "      <td>1</td>\n",
       "      <td>330.000</td>\n",
       "      <td>2.000</td>\n",
       "      <td>-4.000</td>\n",
       "      <td>0.0</td>\n",
       "      <td>0.890</td>\n",
       "      <td>...</td>\n",
       "      <td>NaN</td>\n",
       "      <td>NaN</td>\n",
       "      <td>0.0</td>\n",
       "      <td>0.0</td>\n",
       "      <td>0.82</td>\n",
       "      <td>NaN</td>\n",
       "      <td>NaN</td>\n",
       "      <td>0.0</td>\n",
       "      <td>0.0</td>\n",
       "      <td>2014-05-14</td>\n",
       "    </tr>\n",
       "    <tr>\n",
       "      <th>8</th>\n",
       "      <td>342</td>\n",
       "      <td>HD 13908</td>\n",
       "      <td>b</td>\n",
       "      <td>Radial Velocity</td>\n",
       "      <td>2</td>\n",
       "      <td>19.382</td>\n",
       "      <td>0.006</td>\n",
       "      <td>-0.006</td>\n",
       "      <td>0.0</td>\n",
       "      <td>0.154</td>\n",
       "      <td>...</td>\n",
       "      <td>0.04</td>\n",
       "      <td>-0.04</td>\n",
       "      <td>0.0</td>\n",
       "      <td>0.0</td>\n",
       "      <td>1.67</td>\n",
       "      <td>0.10</td>\n",
       "      <td>-0.10</td>\n",
       "      <td>0.0</td>\n",
       "      <td>0.0</td>\n",
       "      <td>2014-05-14</td>\n",
       "    </tr>\n",
       "    <tr>\n",
       "      <th>9</th>\n",
       "      <td>343</td>\n",
       "      <td>HD 13908</td>\n",
       "      <td>c</td>\n",
       "      <td>Radial Velocity</td>\n",
       "      <td>2</td>\n",
       "      <td>931.000</td>\n",
       "      <td>17.000</td>\n",
       "      <td>-17.000</td>\n",
       "      <td>0.0</td>\n",
       "      <td>2.030</td>\n",
       "      <td>...</td>\n",
       "      <td>0.04</td>\n",
       "      <td>-0.04</td>\n",
       "      <td>0.0</td>\n",
       "      <td>0.0</td>\n",
       "      <td>1.67</td>\n",
       "      <td>0.10</td>\n",
       "      <td>-0.10</td>\n",
       "      <td>0.0</td>\n",
       "      <td>0.0</td>\n",
       "      <td>2014-05-14</td>\n",
       "    </tr>\n",
       "  </tbody>\n",
       "</table>\n",
       "<p>10 rows × 70 columns</p>\n",
       "</div>"
      ],
      "text/plain": [
       "   333    HD 132406  b  Radial Velocity  1  974.00000000  39.00000000  \\\n",
       "0  334    HD 132563  b  Radial Velocity  1      1544.000       34.000   \n",
       "1  335  HD 133131 A  b  Radial Velocity  2       649.000        3.000   \n",
       "2  336  HD 133131 A  c  Radial Velocity  2      3568.000     1084.000   \n",
       "3  337  HD 133131 B  1  Radial Velocity  2      5769.000      831.000   \n",
       "4  338    HD 134987  b  Radial Velocity  2       258.190        0.070   \n",
       "5  339    HD 134987  c  Radial Velocity  2      5000.000      400.000   \n",
       "6  340    HD 136418  b  Radial Velocity  1       464.300        3.200   \n",
       "7  341  HD 137388 A  b  Radial Velocity  1       330.000        2.000   \n",
       "8  342     HD 13908  b  Radial Velocity  2        19.382        0.006   \n",
       "9  343     HD 13908  c  Radial Velocity  2       931.000       17.000   \n",
       "\n",
       "   -39.00000000    0  1.980000     ...      Unnamed: 60  Unnamed: 61  \\\n",
       "0       -34.000  0.0     2.620     ...              NaN          NaN   \n",
       "1        -3.000  0.0     1.440     ...              NaN          NaN   \n",
       "2     -1084.000  0.0     4.490     ...              NaN          NaN   \n",
       "3      -831.000  0.0     6.150     ...              NaN          NaN   \n",
       "4        -0.070  0.0     0.810     ...             0.07        -0.04   \n",
       "5      -400.000  0.0     5.800     ...             0.07        -0.04   \n",
       "6        -3.200  0.0     1.320     ...             0.09        -0.09   \n",
       "7        -4.000  0.0     0.890     ...              NaN          NaN   \n",
       "8        -0.006  0.0     0.154     ...             0.04        -0.04   \n",
       "9       -17.000  0.0     2.030     ...             0.04        -0.04   \n",
       "\n",
       "   Unnamed: 62  Unnamed: 63  Unnamed: 64  Unnamed: 65  Unnamed: 66  \\\n",
       "0          NaN          NaN          NaN          NaN          NaN   \n",
       "1          0.0          0.0          NaN          NaN          NaN   \n",
       "2          0.0          0.0          NaN          NaN          NaN   \n",
       "3          0.0          0.0          NaN          NaN          NaN   \n",
       "4          0.0          0.0         1.25         0.04        -0.04   \n",
       "5          0.0          0.0         1.25         0.04        -0.04   \n",
       "6          0.0          0.0         3.40         0.10        -0.10   \n",
       "7          0.0          0.0         0.82          NaN          NaN   \n",
       "8          0.0          0.0         1.67         0.10        -0.10   \n",
       "9          0.0          0.0         1.67         0.10        -0.10   \n",
       "\n",
       "   Unnamed: 67  Unnamed: 68  2014-05-14  \n",
       "0          NaN          NaN  2014-05-14  \n",
       "1          NaN          0.0  2016-09-08  \n",
       "2          NaN          0.0  2016-09-08  \n",
       "3          NaN          0.0  2016-09-08  \n",
       "4          0.0          0.0  2014-05-14  \n",
       "5          0.0          0.0  2014-05-14  \n",
       "6          0.0          0.0  2014-05-14  \n",
       "7          0.0          0.0  2014-05-14  \n",
       "8          0.0          0.0  2014-05-14  \n",
       "9          0.0          0.0  2014-05-14  \n",
       "\n",
       "[10 rows x 70 columns]"
      ]
     },
     "execution_count": 124,
     "metadata": {},
     "output_type": "execute_result"
    }
   ],
   "source": [
    "df[:10]"
   ]
  }
 ],
 "metadata": {
  "kernelspec": {
   "display_name": "Python 3",
   "language": "python",
   "name": "python3"
  },
  "language_info": {
   "codemirror_mode": {
    "name": "ipython",
    "version": 3
   },
   "file_extension": ".py",
   "mimetype": "text/x-python",
   "name": "python",
   "nbconvert_exporter": "python",
   "pygments_lexer": "ipython3",
   "version": "3.6.0"
  }
 },
 "nbformat": 4,
 "nbformat_minor": 2
}
